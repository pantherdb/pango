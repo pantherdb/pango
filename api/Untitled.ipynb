{
 "cells": [
  {
   "cell_type": "code",
   "execution_count": 1,
   "id": "82f03eb2-db2a-4189-a077-ca60b0f77c53",
   "metadata": {},
   "outputs": [],
   "source": [
    "import load_env\n",
    "from src.config.settings import settings\n",
    "from src.config.es import  es\n",
    "from src.models.terms import Term"
   ]
  },
  {
   "cell_type": "code",
   "execution_count": 3,
   "id": "5091cfd3-02ff-4ee0-8d1e-df6901cdea31",
   "metadata": {},
   "outputs": [
    {
     "data": {
      "text/plain": [
       "[Term(id='GO:0000003', label='reproduction', aspect='biological_process', is_goslim=False),\n",
       " Term(id='GO:0000014', label='single-stranded DNA endodeoxyribonuclease activity', aspect='molecular_function', is_goslim=False),\n",
       " Term(id='GO:0000018', label='regulation of DNA recombination', aspect='biological_process', is_goslim=False),\n",
       " Term(id='GO:0000027', label='ribosomal large subunit assembly', aspect='biological_process', is_goslim=False),\n",
       " Term(id='GO:0000030', label='mannosyltransferase activity', aspect='molecular_function', is_goslim=False),\n",
       " Term(id='GO:0000038', label='very long-chain fatty acid metabolic process', aspect='biological_process', is_goslim=False),\n",
       " Term(id='GO:0000041', label='transition metal ion transport', aspect='biological_process', is_goslim=False),\n",
       " Term(id='GO:0000045', label='autophagosome assembly', aspect='biological_process', is_goslim=False),\n",
       " Term(id='GO:0000049', label='tRNA binding', aspect='molecular_function', is_goslim=False),\n",
       " Term(id='GO:0000054', label='ribosomal subunit export from nucleus', aspect='biological_process', is_goslim=False),\n",
       " Term(id='GO:0000055', label='ribosomal large subunit export from nucleus', aspect='biological_process', is_goslim=False),\n",
       " Term(id='GO:0000070', label='mitotic sister chromatid segregation', aspect='biological_process', is_goslim=False),\n",
       " Term(id='GO:0000075', label='cell cycle checkpoint', aspect='biological_process', is_goslim=False),\n",
       " Term(id='GO:0000076', label='DNA replication checkpoint', aspect='biological_process', is_goslim=False),\n",
       " Term(id='GO:0000077', label='DNA damage checkpoint', aspect='biological_process', is_goslim=False),\n",
       " Term(id='GO:0000079', label='regulation of cyclin-dependent protein serine/threonine kinase activity', aspect='biological_process', is_goslim=False),\n",
       " Term(id='GO:0000082', label='G1/S transition of mitotic cell cycle', aspect='biological_process', is_goslim=False),\n",
       " Term(id='GO:0000086', label='G2/M transition of mitotic cell cycle', aspect='biological_process', is_goslim=False),\n",
       " Term(id='GO:0000109', label='nucleotide-excision repair complex', aspect='cellular_component', is_goslim=False),\n",
       " Term(id='GO:0000118', label='histone deacetylase complex', aspect='cellular_component', is_goslim=False)]"
      ]
     },
     "execution_count": 3,
     "metadata": {},
     "output_type": "execute_result"
    }
   ],
   "source": [
    "async def get_terms():\n",
    "    resp = await es.search(\n",
    "          index=settings.PANTHER_TERMS_INDEX,\n",
    "          filter_path ='took,hits.hits._score,**hits.hits._source**',\n",
    "          query={\"match_all\": {}},\n",
    "          size=20,\n",
    "    )\n",
    "\n",
    "    results = [Term(**hit['_source']) for hit in resp['hits']['hits']]\n",
    "        \n",
    "    return results\n",
    "\n",
    "\n",
    "terms = await get_terms()\n",
    "terms"
   ]
  },
  {
   "cell_type": "code",
   "execution_count": 2,
   "id": "145f3c67-ca1c-4481-9b5d-d0ff83554b59",
   "metadata": {},
   "outputs": [
    {
     "data": {
      "text/plain": [
       "Term(id='GO:0000003', label='reproduction', aspect='biological_process', is_goslim=False)"
      ]
     },
     "execution_count": 2,
     "metadata": {},
     "output_type": "execute_result"
    }
   ],
   "source": [
    "Term (**{'id': 'GO:0000003',\n",
    "  'label': 'reproduction',\n",
    "  'aspect': 'biological_process',\n",
    "  'is_goslim': False})"
   ]
  },
  {
   "cell_type": "code",
   "execution_count": 33,
   "id": "9554b6a7-8290-4d53-8ffa-8dcc9eaab436",
   "metadata": {},
   "outputs": [
    {
     "data": {
      "text/plain": [
       "['__annotations__',\n",
       " '__class__',\n",
       " '__dataclass_fields__',\n",
       " '__dataclass_params__',\n",
       " '__delattr__',\n",
       " '__dict__',\n",
       " '__dir__',\n",
       " '__doc__',\n",
       " '__eq__',\n",
       " '__format__',\n",
       " '__ge__',\n",
       " '__getattribute__',\n",
       " '__gt__',\n",
       " '__hash__',\n",
       " '__init__',\n",
       " '__init_subclass__',\n",
       " '__le__',\n",
       " '__lt__',\n",
       " '__module__',\n",
       " '__ne__',\n",
       " '__new__',\n",
       " '__reduce__',\n",
       " '__reduce_ex__',\n",
       " '__repr__',\n",
       " '__setattr__',\n",
       " '__sizeof__',\n",
       " '__str__',\n",
       " '__subclasshook__',\n",
       " '__weakref__',\n",
       " '_type_definition',\n",
       " 'aspect',\n",
       " 'label']"
      ]
     },
     "execution_count": 33,
     "metadata": {},
     "output_type": "execute_result"
    }
   ],
   "source": [
    "dir(Term)"
   ]
  },
  {
   "cell_type": "code",
   "execution_count": null,
   "id": "ddf6639f-e05f-4f1f-9a40-0fd65e75228a",
   "metadata": {},
   "outputs": [],
   "source": []
  }
 ],
 "metadata": {
  "kernelspec": {
   "display_name": "Python 3 (ipykernel)",
   "language": "python",
   "name": "python3"
  },
  "language_info": {
   "codemirror_mode": {
    "name": "ipython",
    "version": 3
   },
   "file_extension": ".py",
   "mimetype": "text/x-python",
   "name": "python",
   "nbconvert_exporter": "python",
   "pygments_lexer": "ipython3",
   "version": "3.9.13"
  }
 },
 "nbformat": 4,
 "nbformat_minor": 5
}
