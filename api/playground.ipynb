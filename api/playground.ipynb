{
 "cells": [
  {
   "cell_type": "code",
   "execution_count": 1,
   "id": "99ecf45e-49f8-43c5-88e4-c971487efea9",
   "metadata": {},
   "outputs": [],
   "source": [
    "import load_env\n",
    "from elasticsearch import AsyncElasticsearch\n",
    "from src.models.annotation_model import Annotation, AnnotationStats, Frequency, Bucket\n",
    "from src.config.settings import settings\n",
    "from src.config.es import  es\n"
   ]
  },
  {
   "cell_type": "code",
   "execution_count": 11,
   "id": "2daf7009-b6ff-4bbd-b6e4-c785bedab07b",
   "metadata": {},
   "outputs": [
    {
     "data": {
      "text/plain": [
       "AnnotationStats(annotations_frequency=Frequency(buckets=[Bucket(key='GO:0000981', doc_count=2), Bucket(key='GO:0000978', doc_count=1), Bucket(key='GO:0003677', doc_count=1), Bucket(key='GO:0003723', doc_count=1), Bucket(key='GO:0003823', doc_count=1), Bucket(key='GO:0003924', doc_count=1), Bucket(key='GO:0004527', doc_count=1), Bucket(key='GO:0004672', doc_count=1), Bucket(key='GO:0004984', doc_count=1), Bucket(key='GO:0005125', doc_count=1)]))"
      ]
     },
     "execution_count": 11,
     "metadata": {},
     "output_type": "execute_result"
    }
   ],
   "source": [
    "\n",
    "async def get_annotations_stats():\n",
    "    \n",
    "    search_query = {\n",
    "            \"match_all\":{},\n",
    "        }\n",
    "    aggs = {\n",
    "        \"annotations_frequency\": {\n",
    "          \"terms\": {\n",
    "            \"field\": \"term.keyword\",\n",
    "             \"order\":{\"_count\":\"desc\"},\n",
    "          }\n",
    "        }\n",
    "    }\n",
    "    resp = await es.search(\n",
    "          index=settings.PANTHER_ANNOTATIONS_INDEX,\n",
    "          filter_path ='took,hits.total.value,aggregations',\n",
    "          query=search_query,\n",
    "          aggs=aggs,\n",
    "          size=0,\n",
    "    )\n",
    "\n",
    "    buckets = [Bucket(**bucket) for bucket in resp['aggregations']['annotations_frequency']['buckets']]\n",
    "    freq = Frequency(buckets=buckets)\n",
    "    results = AnnotationStats(annotations_frequency=freq)\n",
    "        \n",
    "    return results\n",
    "\n",
    "res = await get_annotations_stats()\n",
    "\n",
    "\n",
    "res"
   ]
  },
  {
   "cell_type": "code",
   "execution_count": null,
   "id": "04168294-e95a-4189-b6f9-29f2e64250fe",
   "metadata": {},
   "outputs": [],
   "source": []
  },
  {
   "cell_type": "code",
   "execution_count": null,
   "id": "39c27490-b3b4-4467-8ddb-83d366a58b7c",
   "metadata": {},
   "outputs": [],
   "source": []
  }
 ],
 "metadata": {
  "kernelspec": {
   "display_name": "Python 3 (ipykernel)",
   "language": "python",
   "name": "python3"
  },
  "language_info": {
   "codemirror_mode": {
    "name": "ipython",
    "version": 3
   },
   "file_extension": ".py",
   "mimetype": "text/x-python",
   "name": "python",
   "nbconvert_exporter": "python",
   "pygments_lexer": "ipython3",
   "version": "3.9.13"
  }
 },
 "nbformat": 4,
 "nbformat_minor": 5
}
