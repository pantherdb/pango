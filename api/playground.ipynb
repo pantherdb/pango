{
  "cells": [
    {
      "cell_type": "code",
      "execution_count": 2,
      "id": "99ecf45e-49f8-43c5-88e4-c971487efea9",
      "metadata": {},
      "outputs": [],
      "source": [
        "import load_env\n",
        "from elasticsearch import AsyncElasticsearch\n",
        "from src.models.annotation_model import Annotation, AnnotationStats, Frequency, Bucket, Evidence\n",
        "from src.config.settings import settings\n",
        "from src.config.es import  es\n"
      ]
    },
    {
      "cell_type": "code",
      "execution_count": 7,
      "id": "2daf7009-b6ff-4bbd-b6e4-c785bedab07b",
      "metadata": {},
      "outputs": [
        {
          "data": {
            "text/plain": [
              "AnnotationStats(term_frequency=Frequency(buckets=[Bucket(key='nucleus', doc_count=2727), Bucket(key='cytoplasm', doc_count=2334), Bucket(key='plasma membrane', doc_count=1546), Bucket(key='regulation of transcription by RNA polymerase II', doc_count=1315), Bucket(key='RNA polymerase II cis-regulatory region sequence-specific DNA binding', doc_count=1079), Bucket(key='extracellular space', doc_count=1064), Bucket(key='DNA-binding transcription factor activity, RNA polymerase II-specific', doc_count=1052), Bucket(key='cytosol', doc_count=812), Bucket(key='integral component of plasma membrane', doc_count=785), Bucket(key='mitochondrion', doc_count=524)]))"
            ]
          },
          "execution_count": 7,
          "metadata": {},
          "output_type": "execute_result"
        }
      ],
      "source": [
        "\n",
        "async def get_annotations_stats():\n",
        "    \n",
        "    search_query = {\n",
        "            \"match_all\":{},\n",
        "        }\n",
        "    aggs = {\n",
        "        \"term_frequency\": {\n",
        "          \"terms\": {\n",
        "            \"field\": \"term.label.keyword\"\n",
        "          }\n",
        "        },\n",
        "        \"aspect_frequency\": {\n",
        "          \"terms\": {\n",
        "            \"field\": \"aspect.keyword\",\n",
        "             \"order\":{\"_count\":\"desc\"}\n",
        "          }\n",
        "        }\n",
        "    }\n",
        "    resp = await es.search(\n",
        "          index=settings.PANGO_ANNOTATIONS_INDEX,\n",
        "          filter_path ='took,hits.total.value,aggregations',\n",
        "          query=search_query,\n",
        "          aggs=aggs,\n",
        "          size=0,\n",
        "    )\n",
        "\n",
        "    for k, freqs in resp['aggregations'].items():        \n",
        "        buckets = [Bucket(**bucket) for bucket in freqs['buckets']]\n",
        "        freq = Frequency(buckets=buckets)\n",
        "        results = AnnotationStats(term_frequency=freq)\n",
        "        \n",
        "    return results\n",
        "\n",
        "res = await get_annotations_stats()\n",
        "\n",
        "\n",
        "res"
      ]
    },
    {
      "cell_type": "code",
      "execution_count": 3,
      "id": "04168294-e95a-4189-b6f9-29f2e64250fe",
      "metadata": {},
      "outputs": [
        {
          "data": {
            "text/plain": [
              "[Annotation(gene='UniProtKB:Q7L0Q8', gene_symbol='RHOU', gene_name='Rho-related GTP-binding protein RhoU', term={'id': 'GO:0032488', 'label': 'Cdc42 protein signal transduction', 'aspect': 'biological_process', 'is_goslim': False}, slim_terms=[{'id': 'GO:0023052', 'label': 'signaling', 'aspect': 'biological_process', 'is_goslim': True}], qualifier='involved_in', evidence=[Evidence(with_gene_id='RGD:71043', references=['PMID:21423166'])], group='GO_Central'),\n",
              " Annotation(gene='UniProtKB:Q7L0Q8', gene_symbol='RHOU', gene_name='Rho-related GTP-binding protein RhoU', term={'id': 'GO:0006897', 'label': 'endocytosis', 'aspect': 'biological_process', 'is_goslim': False}, slim_terms=[{'id': 'GO:0016192', 'label': 'vesicle-mediated transport', 'aspect': 'biological_process', 'is_goslim': True}], qualifier='involved_in', evidence=[Evidence(with_gene_id='UniProtKB:P60953', references=['PMID:26465210']), Evidence(with_gene_id='MGI:MGI:106211', references=['PMID:24792215'])], group='GO_Central'),\n",
              " Annotation(gene='UniProtKB:P51168', gene_symbol='SCNN1B', gene_name='Amiloride-sensitive sodium channel subunit beta', term={'id': 'GO:0005887', 'label': 'integral component of plasma membrane', 'aspect': 'cellular_component', 'is_goslim': False}, slim_terms=[{'id': 'GO:0005886', 'label': 'plasma membrane', 'aspect': 'cellular_component', 'is_goslim': True}], qualifier='is_active_in', evidence=[Evidence(with_gene_id='ZFIN:ZDB-GENE-040513-6', references=['PMID:17686779']), Evidence(with_gene_id='UniProtKB:Q1XA76', references=['PMID:17882215']), Evidence(with_gene_id='ZFIN:ZDB-GENE-040513-2', references=['PMID:14970195']), Evidence(with_gene_id='ZFIN:ZDB-GENE-040513-5', references=['PMID:14970195', 'PMID:17686779']), Evidence(with_gene_id='UniProtKB:P37088', references=['PMID:24124190']), Evidence(with_gene_id='ZFIN:ZDB-GENE-040513-3', references=['PMID:14970195', 'PMID:17686779']), Evidence(with_gene_id='UniProtKB:P51170', references=['PMID:24124190']), Evidence(with_gene_id='MGI:MGI:1194915', references=['PMID:11854527']), Evidence(with_gene_id='RGD:708578', references=['PMID:9261094']), Evidence(with_gene_id='MGI:MGI:1100867', references=['PMID:11306621', 'PMID:11854527']), Evidence(with_gene_id='MGI:MGI:2159339', references=['PMID:11854527']), Evidence(with_gene_id='ZFIN:ZDB-GENE-040513-1', references=['PMID:14970195']), Evidence(with_gene_id='UniProtKB:P51168', references=['PMID:24124190']), Evidence(with_gene_id='UniProtKB:P78348', references=['PMID:22760635']), Evidence(with_gene_id='WB:WBGene00003168', references=['PMID:8655580'])], group='GO_Central'),\n",
              " Annotation(gene='UniProtKB:P51168', gene_symbol='SCNN1B', gene_name='Amiloride-sensitive sodium channel subunit beta', term={'id': 'GO:0034706', 'label': 'sodium channel complex', 'aspect': 'cellular_component', 'is_goslim': False}, slim_terms=[], qualifier='part_of', evidence=[Evidence(with_gene_id='MGI:MGI:104696', references=['PMID:17715136', 'PMID:32079677']), Evidence(with_gene_id='MGI:MGI:104695', references=['PMID:10232677', 'PMID:17715136', 'PMID:32079677']), Evidence(with_gene_id='UniProtKB:P37088', references=['PMID:16423824', 'PMID:21775436', 'PMID:24124190']), Evidence(with_gene_id='UniProtKB:P51172', references=['PMID:16423824']), Evidence(with_gene_id='UniProtKB:P51168', references=['PMID:16423824', 'PMID:21775436', 'PMID:24124190']), Evidence(with_gene_id='MGI:MGI:101782', references=['PMID:10232677', 'PMID:17715136', 'PMID:32079677']), Evidence(with_gene_id='UniProtKB:P51170', references=['PMID:16423824', 'PMID:21775436', 'PMID:24124190'])], group='GO_Central'),\n",
              " Annotation(gene='UniProtKB:Q00653', gene_symbol='NFKB2', gene_name='Nuclear factor NF-kappa-B p100 subunit', term={'id': 'GO:0000981', 'label': 'DNA-binding transcription factor activity, RNA polymerase II-specific', 'aspect': 'molecular_function', 'is_goslim': False}, slim_terms=[], qualifier='enables', evidence=[Evidence(with_gene_id='FB:FBgn0011274', references=['PMID:17296495', 'PMID:7479760', 'PMID:8242747']), Evidence(with_gene_id='MGI:MGI:103289', references=['PMID:8441398']), Evidence(with_gene_id='UniProtKB:Q00653', references=['PMID:12835724']), Evidence(with_gene_id='UniProtKB:Q04864', references=['PMID:1406630']), Evidence(with_gene_id='FB:FBgn0014018', references=['PMID:17296495', 'PMID:19135474', 'PMID:19497884', 'PMID:25180232']), Evidence(with_gene_id='ZFIN:ZDB-GENE-040825-4', references=['PMID:19307597']), Evidence(with_gene_id='UniProtKB:P19838', references=['PMID:1406630', 'PMID:23811396', 'PMID:24434510', 'PMID:26801246']), Evidence(with_gene_id='UniProtKB:Q04206', references=['PMID:1406630', 'PMID:17350185', 'PMID:21806946', 'PMID:23811396', 'PMID:26268439', 'PMID:26435691', 'PMID:3091258']), Evidence(with_gene_id='FB:FBgn0260632', references=['PMID:1648449']), Evidence(with_gene_id='MGI:MGI:103290', references=['PMID:21329555', 'PMID:25152367', 'PMID:8289784'])], group='GO_Central'),\n",
              " Annotation(gene='UniProtKB:O76061', gene_symbol='STC2', gene_name='Stanniocalcin-2', term={'id': 'GO:0005615', 'label': 'extracellular space', 'aspect': 'cellular_component', 'is_goslim': True}, slim_terms=[{'id': 'GO:0005615', 'label': 'extracellular space', 'aspect': 'cellular_component', 'is_goslim': True}], qualifier='is_active_in', evidence=[Evidence(with_gene_id='MGI:MGI:109131', references=['PMID:11146507'])], group='GO_Central'),\n",
              " Annotation(gene='UniProtKB:Q8N8Q9', gene_symbol='NIPA2', gene_name='Magnesium transporter NIPA2', term={'id': 'GO:0015693', 'label': 'magnesium ion transport', 'aspect': 'biological_process', 'is_goslim': False}, slim_terms=[], qualifier='involved_in', evidence=[Evidence(with_gene_id='MGI:MGI:2442058', references=['PMID:17166836']), Evidence(with_gene_id='MGI:MGI:1917951', references=['PMID:18667602']), Evidence(with_gene_id='MGI:MGI:1913918', references=['PMID:18667602']), Evidence(with_gene_id='MGI:MGI:2444671', references=['PMID:18667602'])], group='GO_Central'),\n",
              " Annotation(gene='UniProtKB:Q86Y82', gene_symbol='STX12', gene_name='Syntaxin-12', term={'id': 'GO:0012505', 'label': 'endomembrane system', 'aspect': 'cellular_component', 'is_goslim': False}, slim_terms=[], qualifier='is_active_in', evidence=[Evidence(with_gene_id='UniProtKB:Q8VZU2', references=['PMID:21707889']), Evidence(with_gene_id='TAIR:locus:2025620', references=['PMID:19959995']), Evidence(with_gene_id='UniProtKB:Q86Y82', references=['']), Evidence(with_gene_id='MGI:MGI:1858210', references=['PMID:19549681']), Evidence(with_gene_id='PomBase:SPCC825.03c', references=['PMID:21832151']), Evidence(with_gene_id='SGD:S000005562', references=['PMID:8730101']), Evidence(with_gene_id='UniProtKB:Q13190', references=['PMID:15215310', 'PMID:16081076', 'PMID:9464276']), Evidence(with_gene_id='TAIR:locus:505006427', references=['PMID:10888666', 'PMID:11739776', 'PMID:22307646']), Evidence(with_gene_id='PomBase:SPBC31E1.04', references=['PMID:21757403']), Evidence(with_gene_id='WB:WBGene00006374', references=['PMID:18765566']), Evidence(with_gene_id='TAIR:locus:2197749', references=['PMID:20718953']), Evidence(with_gene_id='MGI:MGI:1923396', references=['PMID:18321981']), Evidence(with_gene_id='FB:FBgn0011708', references=['PMID:12435359', 'PMID:7929581']), Evidence(with_gene_id='TAIR:locus:2081476', references=['PMID:21707889']), Evidence(with_gene_id='TAIR:locus:2032569', references=['PMID:21826108', 'PMID:23832588']), Evidence(with_gene_id='TAIR:locus:2078042', references=['PMID:11739776', 'PMID:22307646']), Evidence(with_gene_id='RGD:61917', references=['PMID:15133481']), Evidence(with_gene_id='FB:FBgn0013343', references=['PMID:7834751']), Evidence(with_gene_id='SGD:S000000012', references=['PMID:12453154']), Evidence(with_gene_id='RGD:1309423', references=['PMID:17110340']), Evidence(with_gene_id='RGD:69430', references=['PMID:14645230', 'PMID:15537656', 'PMID:7860636']), Evidence(with_gene_id='MGI:MGI:103077', references=['PMID:18321981', 'PMID:18535671', 'PMID:24680688']), Evidence(with_gene_id='RGD:708499', references=['PMID:10930465', 'PMID:9852078']), Evidence(with_gene_id='UniProtKB:O15400', references=['PMID:10564279', 'PMID:18570918', 'PMID:18980942', 'PMID:20170677', 'PMID:21438968']), Evidence(with_gene_id='MGI:MGI:1926235', references=['PMID:14622145', 'PMID:15800058', 'PMID:17003038', 'PMID:17003121', 'PMID:19338761', 'PMID:22783020', 'PMID:23485813']), Evidence(with_gene_id='MGI:MGI:109355', references=['PMID:11092755', 'PMID:12805290', 'PMID:16540102', 'PMID:18760330']), Evidence(with_gene_id='RGD:619747', references=['PMID:11786915', 'PMID:15133481', 'PMID:17110340']), Evidence(with_gene_id='SGD:S000002876', references=['PMID:15973437', 'PMID:9427746']), Evidence(with_gene_id='UniProtKB:Q12846', references=['PMID:18588921', 'PMID:20956541']), Evidence(with_gene_id='MGI:MGI:893577', references=['PMID:18827011']), Evidence(with_gene_id='UniProtKB:O60499', references=['PMID:16154903', 'PMID:9446797']), Evidence(with_gene_id='UniProtKB:O43752', references=['PMID:10506127', 'PMID:16154903', 'PMID:19224922', 'PMID:23818989']), Evidence(with_gene_id='RGD:620977', references=['PMID:17004320', 'PMID:17110340', 'PMID:20098723']), Evidence(with_gene_id='SGD:S000005378', references=['PMID:9427746', 'PMID:9565594']), Evidence(with_gene_id='UniProtKB:P56962', references=['PMID:23217709']), Evidence(with_gene_id='SGD:S000004016', references=['PMID:9725919']), Evidence(with_gene_id='PomBase:SPCC594.06c', references=['PMID:25378562']), Evidence(with_gene_id='PomBase:SPAC6F12.03c', references=['PMID:14575697', 'PMID:33788833']), Evidence(with_gene_id='TAIR:locus:2148960', references=['PMID:16935987', 'PMID:9144962']), Evidence(with_gene_id='FB:FBgn0267849', references=['PMID:16258546', 'PMID:18685079']), Evidence(with_gene_id='UniProtKB:Q13277', references=['PMID:18588921']), Evidence(with_gene_id='RGD:2558', references=['PMID:14578858']), Evidence(with_gene_id='TAIR:locus:2148513', references=['PMID:10888666', 'PMID:11739776', 'PMID:22307646']), Evidence(with_gene_id='TAIR:locus:2075054', references=['PMID:18827404']), Evidence(with_gene_id='RGD:61915', references=['PMID:17004320', 'PMID:17110340', 'PMID:8663448', 'PMID:9243506']), Evidence(with_gene_id='UniProtKB:O14662', references=['PMID:16154903', 'PMID:17389686', 'PMID:9464276', 'PMID:9587053']), Evidence(with_gene_id='FB:FBgn0031106', references=['PMID:12414991', 'PMID:19158398', 'PMID:21835342']), Evidence(with_gene_id='UniProtKB:C8VLM4', references=['PMID:19037104', 'PMID:23714354']), Evidence(with_gene_id='UniProtKB:Q9UNK0', references=['PMID:10564279', 'PMID:18570918']), Evidence(with_gene_id='RGD:68426', references=['PMID:9307973']), Evidence(with_gene_id='dictyBase:DDB_G0287733', references=['PMID:10978342', 'PMID:12175335'])], group='GO_Central'),\n",
              " Annotation(gene='UniProtKB:Q86Y82', gene_symbol='STX12', gene_name='Syntaxin-12', term={'id': 'GO:0006906', 'label': 'vesicle fusion', 'aspect': 'biological_process', 'is_goslim': False}, slim_terms=[{'id': 'GO:0016192', 'label': 'vesicle-mediated transport', 'aspect': 'biological_process', 'is_goslim': True}, {'id': 'GO:0061024', 'label': 'membrane organization', 'aspect': 'biological_process', 'is_goslim': True}], qualifier='involved_in', evidence=[Evidence(with_gene_id='RGD:61917', references=['PMID:15133481']), Evidence(with_gene_id='SGD:S000003180', references=['PMID:11001046', 'PMID:26774783']), Evidence(with_gene_id='TAIR:locus:2032569', references=['PMID:15919093']), Evidence(with_gene_id='dictyBase:DDB_G0287733', references=['PMID:10978342']), Evidence(with_gene_id='SGD:S000005378', references=['PMID:11739407']), Evidence(with_gene_id='TAIR:locus:2148513', references=['PMID:15919093', 'PMID:24021022']), Evidence(with_gene_id='TAIR:locus:2078042', references=['PMID:24021022']), Evidence(with_gene_id='FB:FBgn0013343', references=['PMID:17341138', 'PMID:20688915', 'PMID:21316453']), Evidence(with_gene_id='SGD:S000004016', references=['PMID:11001046', 'PMID:9545229']), Evidence(with_gene_id='MGI:MGI:893577', references=['PMID:21151919']), Evidence(with_gene_id='SGD:S000002876', references=['PMID:11739407']), Evidence(with_gene_id='RGD:69430', references=['PMID:12680753', 'PMID:18703708', 'PMID:9671503']), Evidence(with_gene_id='SGD:S000006153', references=['PMID:11001046']), Evidence(with_gene_id='RGD:619747', references=['PMID:15133481']), Evidence(with_gene_id='TAIR:locus:505006427', references=['PMID:24021022']), Evidence(with_gene_id='FB:FBgn0267849', references=['PMID:18685079']), Evidence(with_gene_id='UniProtKB:O43752', references=['PMID:10506127']), Evidence(with_gene_id='MGI:MGI:103077', references=['PMID:18683220']), Evidence(with_gene_id='MGI:MGI:1930705', references=['PMID:18703708', 'PMID:24587181']), Evidence(with_gene_id='SGD:S000005632', references=['PMID:11001046', 'PMID:9245783']), Evidence(with_gene_id='RGD:68426', references=['PMID:16735505'])], group='GO_Central'),\n",
              " Annotation(gene='UniProtKB:Q86Y82', gene_symbol='STX12', gene_name='Syntaxin-12', term={'id': 'GO:0008021', 'label': 'synaptic vesicle', 'aspect': 'cellular_component', 'is_goslim': False}, slim_terms=[{'id': 'GO:0031410', 'label': 'cytoplasmic vesicle', 'aspect': 'cellular_component', 'is_goslim': True}], qualifier='is_active_in', evidence=[Evidence(with_gene_id='RGD:619747', references=['PMID:17110340']), Evidence(with_gene_id='RGD:620977', references=['PMID:17004320', 'PMID:17110340'])], group='GO_Central'),\n",
              " Annotation(gene='UniProtKB:Q86Y82', gene_symbol='STX12', gene_name='Syntaxin-12', term={'id': 'GO:0048278', 'label': 'vesicle docking', 'aspect': 'biological_process', 'is_goslim': False}, slim_terms=[{'id': 'GO:0016192', 'label': 'vesicle-mediated transport', 'aspect': 'biological_process', 'is_goslim': True}], qualifier='involved_in', evidence=[Evidence(with_gene_id='RGD:621019', references=['PMID:7690687']), Evidence(with_gene_id='RGD:69430', references=['PMID:1321498']), Evidence(with_gene_id='MGI:MGI:1930705', references=['PMID:18703708', 'PMID:24133272', 'PMID:24587181']), Evidence(with_gene_id='SGD:S000005632', references=['PMID:9245783']), Evidence(with_gene_id='MGI:MGI:109355', references=['PMID:17502420'])], group='GO_Central'),\n",
              " Annotation(gene='UniProtKB:Q86Y82', gene_symbol='STX12', gene_name='Syntaxin-12', term={'id': 'GO:0030285', 'label': 'integral component of synaptic vesicle membrane', 'aspect': 'cellular_component', 'is_goslim': False}, slim_terms=[{'id': 'GO:0043226', 'label': 'organelle', 'aspect': 'cellular_component', 'is_goslim': True}, {'id': 'GO:0031410', 'label': 'cytoplasmic vesicle', 'aspect': 'cellular_component', 'is_goslim': True}], qualifier='is_active_in', evidence=[Evidence(with_gene_id='RGD:620977', references=['PMID:17004320', 'PMID:17110340'])], group='GO_Central'),\n",
              " Annotation(gene='UniProtKB:P27824', gene_symbol='CANX', gene_name='Calnexin', term={'id': 'GO:0005509', 'label': 'calcium ion binding', 'aspect': 'molecular_function', 'is_goslim': False}, slim_terms=[], qualifier='enables', evidence=[Evidence(with_gene_id='MGI:MGI:107472', references=['PMID:8126001', 'PMID:8188695', 'PMID:9780330']), Evidence(with_gene_id='PomBase:SPAC3C7.11c', references=['PMID:7621821']), Evidence(with_gene_id='RGD:620288', references=['PMID:8500729']), Evidence(with_gene_id='UniProtKB:P27797', references=['PMID:21590275', 'PMID:21705382']), Evidence(with_gene_id='WB:WBGene00000567', references=['PMID:16256074']), Evidence(with_gene_id='WB:WBGene00000802', references=['PMID:11553721']), Evidence(with_gene_id='MGI:MGI:88252', references=['PMID:21652723', 'PMID:3513762'])], group='GO_Central'),\n",
              " Annotation(gene='UniProtKB:P27824', gene_symbol='CANX', gene_name='Calnexin', term={'id': 'GO:0006457', 'label': 'protein folding', 'aspect': 'biological_process', 'is_goslim': True}, slim_terms=[{'id': 'GO:0006457', 'label': 'protein folding', 'aspect': 'biological_process', 'is_goslim': True}], qualifier='involved_in', evidence=[Evidence(with_gene_id='SGD:S000000054', references=['PMID:15173200']), Evidence(with_gene_id='TAIR:locus:2201816', references=['PMID:19763087'])], group='GO_Central'),\n",
              " Annotation(gene='UniProtKB:P27824', gene_symbol='CANX', gene_name='Calnexin', term={'id': 'GO:0030433', 'label': 'ubiquitin-dependent ERAD pathway', 'aspect': 'biological_process', 'is_goslim': False}, slim_terms=[{'id': 'GO:0030163', 'label': 'protein catabolic process', 'aspect': 'biological_process', 'is_goslim': True}], qualifier='involved_in', evidence=[Evidence(with_gene_id='SGD:S000000054', references=['PMID:7814381'])], group='GO_Central'),\n",
              " Annotation(gene='UniProtKB:P08100', gene_symbol='RHO', gene_name='Rhodopsin', term={'id': 'GO:0071482', 'label': 'cellular response to light stimulus', 'aspect': 'biological_process', 'is_goslim': False}, slim_terms=[], qualifier='involved_in', evidence=[Evidence(with_gene_id='UniProtKB:Q6U736', references=['PMID:22043319', 'PMID:31380578']), Evidence(with_gene_id='UniProtKB:Q9H1Y3', references=['PMID:31380578']), Evidence(with_gene_id='UniProtKB:P03999', references=['PMID:31380578']), Evidence(with_gene_id='ZFIN:ZDB-GENE-030314-2', references=['PMID:21966429']), Evidence(with_gene_id='MGI:MGI:97914', references=['PMID:21052544']), Evidence(with_gene_id='MGI:MGI:2662912', references=['PMID:22043319', 'PMID:31607531']), Evidence(with_gene_id='UniProtKB:D0E2W5', references=['PMID:19664923']), Evidence(with_gene_id='MGI:MGI:1353425', references=['PMID:19793992']), Evidence(with_gene_id='UniProtKB:P02699', references=['PMID:22198838']), Evidence(with_gene_id='FB:FBgn0002940', references=['PMID:28489826', 'PMID:7759511']), Evidence(with_gene_id='ZFIN:ZDB-GENE-101129-1', references=['PMID:30322939']), Evidence(with_gene_id='UniProtKB:F1NEY8', references=['PMID:16856781']), Evidence(with_gene_id='FB:FBgn0003249', references=['PMID:1403087']), Evidence(with_gene_id='FB:FBgn0003250', references=['PMID:1403087']), Evidence(with_gene_id='RGD:3573', references=['PMID:2525480', 'PMID:8814134'])], group='GO_Central'),\n",
              " Annotation(gene='UniProtKB:P08100', gene_symbol='RHO', gene_name='Rhodopsin', term={'id': 'GO:0007186', 'label': 'G protein-coupled receptor signaling pathway', 'aspect': 'biological_process', 'is_goslim': False}, slim_terms=[{'id': 'GO:0023052', 'label': 'signaling', 'aspect': 'biological_process', 'is_goslim': True}], qualifier='involved_in', evidence=[Evidence(with_gene_id='MGI:MGI:1353425', references=['PMID:19793992']), Evidence(with_gene_id='UniProtKB:P02699', references=['PMID:22198838']), Evidence(with_gene_id='ZFIN:ZDB-GENE-080415-3', references=['PMID:24678795']), Evidence(with_gene_id='ZFIN:ZDB-GENE-110622-1', references=['PMID:24678795']), Evidence(with_gene_id='ZFIN:ZDB-GENE-070111-2', references=['PMID:24678795']), Evidence(with_gene_id='ZFIN:ZDB-GENE-030314-2', references=['PMID:21966429', 'PMID:24678795']), Evidence(with_gene_id='RGD:3573', references=['PMID:8814134']), Evidence(with_gene_id='UniProtKB:P08100', references=['PMID:2218504']), Evidence(with_gene_id='FB:FBgn0002940', references=['PMID:7759511'])], group='GO_Central'),\n",
              " Annotation(gene='UniProtKB:P08100', gene_symbol='RHO', gene_name='Rhodopsin', term={'id': 'GO:0001750', 'label': 'photoreceptor outer segment', 'aspect': 'cellular_component', 'is_goslim': False}, slim_terms=[{'id': 'GO:0005929', 'label': 'cilium', 'aspect': 'cellular_component', 'is_goslim': True}], qualifier='is_active_in', evidence=[Evidence(with_gene_id='ZFIN:ZDB-GENE-990415-271', references=['PMID:18492793']), Evidence(with_gene_id='UniProtKB:P08100', references=['PMID:11767049', 'PMID:19934218', 'PMID:23704327', 'PMID:25664179']), Evidence(with_gene_id='ZFIN:ZDB-GENE-990604-40', references=['PMID:17360570', 'PMID:18492793']), Evidence(with_gene_id='RGD:620978', references=['PMID:20209167']), Evidence(with_gene_id='UniProtKB:P22329', references=['PMID:2201661']), Evidence(with_gene_id='MGI:MGI:99438', references=['PMID:10725384', 'PMID:10813773', 'PMID:12651948', 'PMID:19332056', 'PMID:22183407', 'PMID:23351594', 'PMID:23386608', 'PMID:26420485']), Evidence(with_gene_id='RGD:3573', references=['PMID:2209754', 'PMID:8814134']), Evidence(with_gene_id='UniProtKB:P22328', references=['PMID:12196552']), Evidence(with_gene_id='UniProtKB:P02699', references=['PMID:10926528', 'PMID:16280326', 'PMID:9539726']), Evidence(with_gene_id='ZFIN:ZDB-GENE-990604-42', references=['PMID:17360570']), Evidence(with_gene_id='UniProtKB:F1P3Y2', references=['PMID:12196552']), Evidence(with_gene_id='MGI:MGI:97914', references=['PMID:10725384', 'PMID:12651948', 'PMID:19332056', 'PMID:20592197', 'PMID:21212183', 'PMID:21444805', 'PMID:22183407', 'PMID:22869374', 'PMID:23178122', 'PMID:23351594', 'PMID:23943788', 'PMID:25224828', 'PMID:26420485']), Evidence(with_gene_id='MGI:MGI:1097692', references=['PMID:10725384', 'PMID:12651948', 'PMID:19332056', 'PMID:23351594', 'PMID:23386608']), Evidence(with_gene_id='RGD:621033', references=['PMID:20209167'])], group='GO_Central'),\n",
              " Annotation(gene='UniProtKB:Q14164', gene_symbol='IKBKE', gene_name='Inhibitor of nuclear factor kappa-B kinase subunit epsilon', term={'id': 'GO:0005737', 'label': 'cytoplasm', 'aspect': 'cellular_component', 'is_goslim': False}, slim_terms=[], qualifier='is_active_in', evidence=[Evidence(with_gene_id='RGD:1306661', references=['PMID:17419723']), Evidence(with_gene_id='FB:FBgn0024222', references=['PMID:11018014']), Evidence(with_gene_id='UniProtKB:O15111', references=['PMID:30341167']), Evidence(with_gene_id='UniProtKB:O14920', references=['']), Evidence(with_gene_id='UniProtKB:Q14164', references=['PMID:16876765', 'PMID:20188669', 'PMID:24882218']), Evidence(with_gene_id='RGD:621375', references=['PMID:15147892', 'PMID:17419723']), Evidence(with_gene_id='UniProtKB:A7UNK0', references=['PMID:24380861']), Evidence(with_gene_id='FB:FBgn0086657', references=['PMID:21316589']), Evidence(with_gene_id='UniProtKB:Q9UHD2', references=['PMID:21813773', 'PMID:29251827'])], group='GO_Central'),\n",
              " Annotation(gene='UniProtKB:Q14164', gene_symbol='IKBKE', gene_name='Inhibitor of nuclear factor kappa-B kinase subunit epsilon', term={'id': 'GO:0004674', 'label': 'protein serine/threonine kinase activity', 'aspect': 'molecular_function', 'is_goslim': False}, slim_terms=[{'id': 'GO:0016740', 'label': 'transferase activity', 'aspect': 'molecular_function', 'is_goslim': True}, {'id': 'GO:0140096', 'label': 'catalytic activity, acting on a protein', 'aspect': 'molecular_function', 'is_goslim': True}], qualifier='enables', evidence=[Evidence(with_gene_id='MGI:MGI:1929658', references=['PMID:21617041']), Evidence(with_gene_id='RGD:621375', references=['PMID:12592100']), Evidence(with_gene_id='MGI:MGI:1929612', references=['PMID:10421793']), Evidence(with_gene_id='MGI:MGI:1338071', references=['PMID:18981174', 'PMID:25326420']), Evidence(with_gene_id='FB:FBgn0086657', references=['PMID:21316589']), Evidence(with_gene_id='UniProtKB:O14920', references=['PMID:15084260', 'PMID:18692471', 'PMID:23613522', 'PMID:25326418', 'PMID:25636800']), Evidence(with_gene_id='FB:FBgn0024222', references=['PMID:19497884']), Evidence(with_gene_id='RGD:1306661', references=['PMID:14572607']), Evidence(with_gene_id='UniProtKB:Q9UHD2', references=['PMID:25636800', 'PMID:25803835', 'PMID:27103069', 'PMID:31709703'])], group='GO_Central')]"
            ]
          },
          "execution_count": 3,
          "metadata": {},
          "output_type": "execute_result"
        }
      ],
      "source": [
        "async def get_annotations():\n",
        "    resp = await es.search(\n",
        "          index=settings.PANGO_ANNOTATIONS_INDEX,\n",
        "          filter_path ='took,hits.hits._score,**hits.hits._source**',\n",
        "          query={\"match_all\": {}},\n",
        "          size=20,\n",
        "    )\n",
        "\n",
        "    results = [Annotation(id=resp['hit']['_id'], **hit['_source']) for hit in resp['hits']['hits']]\n",
        "        \n",
        "    return results\n",
        "\n",
        "results = await get_annotations()\n",
        "results"
      ]
    },
    {
      "cell_type": "code",
      "execution_count": null,
      "id": "39c27490-b3b4-4467-8ddb-83d366a58b7c",
      "metadata": {},
      "outputs": [],
      "source": []
    },
    {
      "cell_type": "code",
      "execution_count": null,
      "id": "c08349d0-ed80-40a0-9fd8-cc671e6c970f",
      "metadata": {},
      "outputs": [],
      "source": []
    }
  ],
  "metadata": {
    "kernelspec": {
      "display_name": "Python 3 (ipykernel)",
      "language": "python",
      "name": "python3"
    },
    "language_info": {
      "codemirror_mode": {
        "name": "ipython",
        "version": 3
      },
      "file_extension": ".py",
      "mimetype": "text/x-python",
      "name": "python",
      "nbconvert_exporter": "python",
      "pygments_lexer": "ipython3",
      "version": "3.9.13"
    }
  },
  "nbformat": 4,
  "nbformat_minor": 5
}